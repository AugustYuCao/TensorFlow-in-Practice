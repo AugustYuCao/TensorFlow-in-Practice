{
  "nbformat": 4,
  "nbformat_minor": 0,
  "metadata": {
    "colab": {
      "name": "Exercise2-Question.ipynb",
      "version": "0.3.2",
      "provenance": [],
      "collapsed_sections": []
    },
    "kernelspec": {
      "name": "python3",
      "display_name": "Python 3"
    }
  },
  "cells": [
    {
      "metadata": {
        "id": "tOoyQ70H00_s",
        "colab_type": "text"
      },
      "cell_type": "markdown",
      "source": [
        "## Exercise 2\n",
        "In the course you learned how to do classification using Fashion MNIST, a data set containing items of clothing. There's another, similar dataset called MNIST which has items of handwriting -- the digits 0 through 9.\n",
        "\n",
        "Write an MNIST classifier that trains to 99% accuracy or above, and does it without a fixed number of epochs -- i.e. you should stop training once you reach that level of accuracy.\n",
        "\n",
        "Some notes:\n",
        "1. It should succeed in less than 10 epochs, so it is okay to change epochs to 10, but nothing larger\n",
        "2. When it reaches 99% or greater it should print out the string \"Reached 99% accuracy so cancelling training!\"\n",
        "3. If you add any additional variables, make sure you use the same names as the ones used in the class\n",
        "\n",
        "I've started the code for you below -- how would you finish it? "
      ]
    },
    {
      "metadata": {
        "id": "9rvXQGAA0ssC",
        "colab_type": "code",
        "colab": {
          "base_uri": "https://localhost:8080/",
          "height": 272
        },
        "outputId": "43275311-dccd-465e-93be-7c806a53e3eb"
      },
      "cell_type": "code",
      "source": [
        "# YOUR CODE SHOULD START HERE\n",
        "# YOUR CODE SHOULD END HERE\n",
        "import tensorflow as tf\n",
        "mnist = tf.keras.datasets.mnist\n",
        "\n",
        "class myCallback(tf.keras.callbacks.Callback):\n",
        "  def on_epoch_end(self, epoch, logs = {}):\n",
        "    if logs.get('acc') > 0.99:\n",
        "      print('Reached 99% accuracy so cancelling training!')\n",
        "      self.model.stop_training = True\n",
        "\n",
        "callbacks = myCallback()\n",
        "(x_train, y_train),(x_test, y_test) = mnist.load_data()\n",
        "x_train, x_test = x_train / 255, x_test / 255\n",
        "\n",
        "model = tf.keras.models.Sequential([\n",
        "    tf.keras.layers.Flatten(),\n",
        "    tf.keras.layers.Dense(1024, activation = tf.nn.relu),\n",
        "    tf.keras.layers.Dense(10, activation = tf.nn.softmax)])\n",
        "\n",
        "model.compile(optimizer='adam',\n",
        "              loss='sparse_categorical_crossentropy',\n",
        "              metrics=['accuracy'])\n",
        "\n",
        "model.fit(x_train, y_train, epochs = 10, callbacks = [callbacks])\n",
        "model.evaluate(x_test, y_test)\n",
        "classifications = model.predict(x_test)\n",
        "\n",
        "print(classifications[0])\n",
        "print(y_test[0])"
      ],
      "execution_count": 3,
      "outputs": [
        {
          "output_type": "stream",
          "text": [
            "Epoch 1/10\n",
            "60000/60000 [==============================] - 28s 470us/sample - loss: 0.1833 - acc: 0.9446\n",
            "Epoch 2/10\n",
            "60000/60000 [==============================] - 28s 469us/sample - loss: 0.0750 - acc: 0.9772\n",
            "Epoch 3/10\n",
            "60000/60000 [==============================] - 28s 466us/sample - loss: 0.0485 - acc: 0.9842\n",
            "Epoch 4/10\n",
            "60000/60000 [==============================] - 28s 469us/sample - loss: 0.0337 - acc: 0.9892\n",
            "Epoch 5/10\n",
            "59936/60000 [============================>.] - ETA: 0s - loss: 0.0265 - acc: 0.9917Reached 99% accuracy so cancelling training!\n",
            "60000/60000 [==============================] - 28s 463us/sample - loss: 0.0264 - acc: 0.9917\n",
            "10000/10000 [==============================] - 1s 93us/sample - loss: 0.0784 - acc: 0.9786\n",
            "[4.4963523e-13 6.1008060e-10 4.3191770e-10 7.6044779e-09 9.9021021e-16\n",
            " 7.2808095e-13 6.8336856e-14 1.0000000e+00 5.1916374e-11 4.8662785e-10]\n",
            "7\n"
          ],
          "name": "stdout"
        }
      ]
    }
  ]
}